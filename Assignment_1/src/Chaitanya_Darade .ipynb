{
 "cells": [
  {
   "cell_type": "code",
   "execution_count": 1,
   "metadata": {},
   "outputs": [],
   "source": [
    "# 1 : Create a pandas data frame using the data in the ‘auto-mpg.csv’ file.\n",
    "import pandas as pd\n",
    "auto_mpg1 = pd.read_csv('auto-mpg.csv')"
   ]
  },
  {
   "cell_type": "code",
   "execution_count": 2,
   "metadata": {},
   "outputs": [
    {
     "name": "stdout",
     "output_type": "stream",
     "text": [
      "    mpg  cylinders  displacement horsepower  weight  acceleration\n",
      "0  18.0          8         307.0        130    3504          12.0\n",
      "1  15.0          8         350.0        165    3693          11.5\n",
      "2  18.0          8         318.0        150    3436          11.0\n",
      "3  16.0          8         304.0        150    3433          12.0\n",
      "4  17.0          8         302.0        140    3449          10.5\n",
      "5  15.0          8         429.0        198    4341          10.0\n",
      "6  14.0          8         454.0        220    4354           9.0\n"
     ]
    }
   ],
   "source": [
    "# 2 : Display the first 7 rows in the data frame.\n",
    "print(auto_mpg1[0:7])"
   ]
  },
  {
   "cell_type": "code",
   "execution_count": 3,
   "metadata": {},
   "outputs": [
    {
     "name": "stdout",
     "output_type": "stream",
     "text": [
      "<class 'pandas.core.frame.DataFrame'>\n",
      "RangeIndex: 398 entries, 0 to 397\n",
      "Data columns (total 6 columns):\n",
      "mpg             398 non-null float64\n",
      "cylinders       398 non-null int64\n",
      "displacement    398 non-null float64\n",
      "horsepower      398 non-null object\n",
      "weight          398 non-null int64\n",
      "acceleration    398 non-null float64\n",
      "dtypes: float64(3), int64(2), object(1)\n",
      "memory usage: 18.7+ KB\n"
     ]
    }
   ],
   "source": [
    "# 3 : Display the number of entries and the data types of all the fields\n",
    "auto_mpg1.info()"
   ]
  },
  {
   "cell_type": "code",
   "execution_count": 4,
   "metadata": {},
   "outputs": [
    {
     "name": "stdout",
     "output_type": "stream",
     "text": [
      "8\n",
      "4\n",
      "6\n",
      "3\n",
      "5\n"
     ]
    }
   ],
   "source": [
    "# 4 : Display the unique values of the ‘cylinders’ field.\n",
    "for unique in auto_mpg1.cylinders.unique():\n",
    "    print(unique)"
   ]
  },
  {
   "cell_type": "code",
   "execution_count": 5,
   "metadata": {},
   "outputs": [
    {
     "data": {
      "text/plain": [
       "23.514572864321615"
      ]
     },
     "execution_count": 5,
     "metadata": {},
     "output_type": "execute_result"
    }
   ],
   "source": [
    "# 5 : a) Show the mean of'mpg' attribute.\n",
    "auto_mpg1.mpg.mean()"
   ]
  },
  {
   "cell_type": "code",
   "execution_count": 6,
   "metadata": {},
   "outputs": [
    {
     "data": {
      "text/plain": [
       "7.815984312565782"
      ]
     },
     "execution_count": 6,
     "metadata": {},
     "output_type": "execute_result"
    }
   ],
   "source": [
    "# 5 : b) Show the std of'mpg' attribute.\n",
    "auto_mpg1.mpg.std()"
   ]
  },
  {
   "cell_type": "code",
   "execution_count": 7,
   "metadata": {},
   "outputs": [
    {
     "data": {
      "text/plain": [
       "9.0"
      ]
     },
     "execution_count": 7,
     "metadata": {},
     "output_type": "execute_result"
    }
   ],
   "source": [
    "# 5 : c) Show the min of'mpg' attribute.\n",
    "auto_mpg1.mpg.min()"
   ]
  },
  {
   "cell_type": "code",
   "execution_count": 8,
   "metadata": {},
   "outputs": [
    {
     "data": {
      "text/plain": [
       "46.6"
      ]
     },
     "execution_count": 8,
     "metadata": {},
     "output_type": "execute_result"
    }
   ],
   "source": [
    "# 5 : d) Show the max of'mpg' attribute.\n",
    "auto_mpg1.mpg.max()"
   ]
  },
  {
   "cell_type": "code",
   "execution_count": 10,
   "metadata": {
    "scrolled": true
   },
   "outputs": [
    {
     "data": {
      "image/png": "[encoded data removed]",
      "text/plain": [
       "<Figure size 432x288 with 1 Axes>"
      ]
     },
     "metadata": {
      "needs_background": "light"
     },
     "output_type": "display_data"
    }
   ],
   "source": [
    "# 6 : Plot the histogram of 'mpg' field.\n",
    "import matplotlib.pyplot as plt\n",
    "plt.hist(auto_mpg1['mpg'])\n",
    "plt.show()"
   ]
  },
  {
   "cell_type": "code",
   "execution_count": 11,
   "metadata": {},
   "outputs": [
    {
     "name": "stdout",
     "output_type": "stream",
     "text": [
      "                 mpg  displacement       weight  acceleration\n",
      "cylinders                                                    \n",
      "3          20.550000     72.500000  2398.500000     13.250000\n",
      "4          29.286765    109.796569  2308.127451     16.601471\n",
      "5          27.366667    145.000000  3103.333333     18.633333\n",
      "6          19.985714    218.142857  3198.226190     16.263095\n",
      "8          14.963107    345.009709  4114.718447     12.955340\n"
     ]
    }
   ],
   "source": [
    "# 7 : Create a new data frame that groups the entries by ‘cylinders’ and aggregates\n",
    "#     them by taking the mean for all the fields. Display the new data frame.\n",
    "\n",
    "auto_mpg_2 = auto_mpg1.groupby(['cylinders']).mean()\n",
    "print(auto_mpg_2)"
   ]
  },
  {
   "cell_type": "code",
   "execution_count": 12,
   "metadata": {},
   "outputs": [
    {
     "name": "stdout",
     "output_type": "stream",
     "text": [
      "Int64Index([3, 4, 5, 6, 8], dtype='int64', name='cylinders')\n"
     ]
    }
   ],
   "source": [
    "# 8 : Display the index of the new data frame.\n",
    "\n",
    "print(auto_mpg_2.index)"
   ]
  },
  {
   "cell_type": "code",
   "execution_count": 13,
   "metadata": {},
   "outputs": [
    {
     "name": "stdout",
     "output_type": "stream",
     "text": [
      "                 mpg  displacement       weight  acceleration  disp_per_cyl\n",
      "cylinders                                                                  \n",
      "3          20.550000     72.500000  2398.500000     13.250000     24.166667\n",
      "4          29.286765    109.796569  2308.127451     16.601471     27.449142\n",
      "5          27.366667    145.000000  3103.333333     18.633333     29.000000\n",
      "6          19.985714    218.142857  3198.226190     16.263095     36.357143\n",
      "8          14.963107    345.009709  4114.718447     12.955340     43.126214\n"
     ]
    }
   ],
   "source": [
    "# 9 : Create a new field ‘disp_per_cyl’ that gives the displacement per cylinder.\n",
    "\n",
    "auto_mpg_2['disp_per_cyl'] = auto_mpg_2['displacement'].div(auto_mpg_2.index)\n",
    "print(auto_mpg_2.head())"
   ]
  },
  {
   "cell_type": "code",
   "execution_count": 14,
   "metadata": {},
   "outputs": [
    {
     "data": {
      "image/png": "[encoded data removed]",
      "text/plain": [
       "<Figure size 432x288 with 1 Axes>"
      ]
     },
     "metadata": {
      "needs_background": "light"
     },
     "output_type": "display_data"
    }
   ],
   "source": [
    "# 10 : Create a bar plot for ‘mpg’ vs ‘cylinders’.\n",
    "\n",
    "import matplotlib.pyplot as plt\n",
    "\n",
    "auto_mpg_2['mpg'].plot.bar()\n",
    "plt.xlabel('cylinders')\n",
    "plt.ylabel('mpg')\n",
    "plt.show()"
   ]
  },
  {
   "cell_type": "code",
   "execution_count": 15,
   "metadata": {},
   "outputs": [
    {
     "data": {
      "image/png": "[encoded data removed]",
      "text/plain": [
       "<Figure size 432x288 with 1 Axes>"
      ]
     },
     "metadata": {
      "needs_background": "light"
     },
     "output_type": "display_data"
    }
   ],
   "source": [
    "# 11 : Create a line plot for ‘disp per cyl’ vs ‘cylinders’.\n",
    "\n",
    "import matplotlib.pyplot as plt\n",
    "auto_mpg_2['disp_per_cyl'].plot.line()\n",
    "plt.xlabel('cylinders')\n",
    "plt.ylabel('mdisp_per_cyl')\n",
    "plt.show()"
   ]
  },
  {
   "cell_type": "code",
   "execution_count": 16,
   "metadata": {},
   "outputs": [],
   "source": [
    "# 12 :Save the new data frame into a file name 'summary.csv'.\n",
    "\n",
    "auto_mpg_2.to_csv('summary.csv')"
   ]
  },
  {
   "cell_type": "code",
   "execution_count": 17,
   "metadata": {},
   "outputs": [
    {
     "name": "stdout",
     "output_type": "stream",
     "text": [
      "[[20.55       24.16666667]\n",
      " [29.28676471 27.44914216]\n",
      " [27.36666667 29.        ]\n",
      " [19.98571429 36.35714286]\n",
      " [14.9631068  43.12621359]]\n"
     ]
    }
   ],
   "source": [
    "# 13 :Create and display a numpy matrix using only the ‘mpg’ and ‘disp_per_cyl’ fields.\n",
    "\n",
    "matrix = auto_mpg_2[['mpg', 'disp_per_cyl']].to_numpy()\n",
    "print(matrix)"
   ]
  },
  {
   "cell_type": "code",
   "execution_count": 18,
   "metadata": {},
   "outputs": [
    {
     "name": "stdout",
     "output_type": "stream",
     "text": [
      "[[20.55       29.28676471 27.36666667 19.98571429 14.9631068 ]\n",
      " [24.16666667 27.44914216 29.         36.35714286 43.12621359]]\n"
     ]
    }
   ],
   "source": [
    "# 14 :Display the transpose of the new numpy matrix.\n",
    "\n",
    "transpose_matrix = matrix.transpose()\n",
    "print(transpose_matrix)"
   ]
  },
  {
   "cell_type": "code",
   "execution_count": 29,
   "metadata": {},
   "outputs": [
    {
     "name": "stdout",
     "output_type": "stream",
     "text": [
      "[[27.36666667]\n",
      " [29.        ]]\n"
     ]
    }
   ],
   "source": [
    "# 15 :Create and display a copy of the third column of the transposed matrix.\n",
    "\n",
    "third_column = transpose_matrix[:,2].reshape(-1,1)\n",
    "print(third_column)"
   ]
  }
 ],
 "metadata": {
  "kernelspec": {
   "display_name": "Python 3",
   "language": "python",
   "name": "python3"
  },
  "language_info": {
   "codemirror_mode": {
    "name": "ipython",
    "version": 3
   },
   "file_extension": ".py",
   "mimetype": "text/x-python",
   "name": "python",
   "nbconvert_exporter": "python",
   "pygments_lexer": "ipython3",
   "version": "3.7.3"
  }
 },
 "nbformat": 4,
 "nbformat_minor": 2
}

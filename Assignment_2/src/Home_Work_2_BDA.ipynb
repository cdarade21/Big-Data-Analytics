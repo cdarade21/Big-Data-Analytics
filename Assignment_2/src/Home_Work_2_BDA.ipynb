{
 "cells": [
  {
   "cell_type": "markdown",
   "metadata": {},
   "source": [
    "<h2><center>HOME WORK - 2 </center></h2>\n",
    "<h3>Team Members:</h3> <br>\n",
    "Uma Sai Madhuri Jetty<br>\n",
    "Chaitanya Darade"
   ]
  },
  {
   "cell_type": "markdown",
   "metadata": {},
   "source": [
    "#### Importing the required libraries and loading the data"
   ]
  },
  {
   "cell_type": "code",
   "execution_count": 1,
   "metadata": {},
   "outputs": [],
   "source": [
    "from sklearn import linear_model\n",
    "import pandas as pd\n",
    "import numpy as np\n",
    "from sklearn import preprocessing\n",
    "from sklearn.linear_model import Ridge\n",
    "from sklearn.linear_model import Lasso\n",
    "from sklearn.linear_model import LinearRegression\n",
    "from sklearn.model_selection import cross_val_score\n",
    "from sklearn.linear_model import RidgeCV\n",
    "from sklearn.linear_model import LassoCV\n",
    "from sklearn.metrics import mean_squared_error, r2_score\n",
    "import warnings\n",
    "warnings.filterwarnings(\"ignore\") # to not display any warnings generated \n",
    "\n",
    "df_train = pd.read_csv(\"dodgers_training.csv\")\n",
    "df_test = pd.read_csv(\"dodgers_testing.csv\")"
   ]
  },
  {
   "cell_type": "code",
   "execution_count": 2,
   "metadata": {},
   "outputs": [
    {
     "data": {
      "text/html": [
       "<div>\n",
       "<style scoped>\n",
       "    .dataframe tbody tr th:only-of-type {\n",
       "        vertical-align: middle;\n",
       "    }\n",
       "\n",
       "    .dataframe tbody tr th {\n",
       "        vertical-align: top;\n",
       "    }\n",
       "\n",
       "    .dataframe thead th {\n",
       "        text-align: right;\n",
       "    }\n",
       "</style>\n",
       "<table border=\"1\" class=\"dataframe\">\n",
       "  <thead>\n",
       "    <tr style=\"text-align: right;\">\n",
       "      <th></th>\n",
       "      <th>Unnamed: 0</th>\n",
       "      <th>month</th>\n",
       "      <th>day</th>\n",
       "      <th>attend</th>\n",
       "      <th>day_of_week</th>\n",
       "      <th>opponent</th>\n",
       "      <th>temp</th>\n",
       "      <th>skies</th>\n",
       "      <th>day_night</th>\n",
       "      <th>cap</th>\n",
       "      <th>shirt</th>\n",
       "      <th>fireworks</th>\n",
       "      <th>bobblehead</th>\n",
       "    </tr>\n",
       "  </thead>\n",
       "  <tbody>\n",
       "    <tr>\n",
       "      <th>0</th>\n",
       "      <td>58</td>\n",
       "      <td>AUG</td>\n",
       "      <td>20</td>\n",
       "      <td>36878</td>\n",
       "      <td>Monday</td>\n",
       "      <td>Giants</td>\n",
       "      <td>80</td>\n",
       "      <td>Clear</td>\n",
       "      <td>Night</td>\n",
       "      <td>NO</td>\n",
       "      <td>NO</td>\n",
       "      <td>NO</td>\n",
       "      <td>NO</td>\n",
       "    </tr>\n",
       "    <tr>\n",
       "      <th>1</th>\n",
       "      <td>62</td>\n",
       "      <td>AUG</td>\n",
       "      <td>25</td>\n",
       "      <td>40284</td>\n",
       "      <td>Saturday</td>\n",
       "      <td>Marlins</td>\n",
       "      <td>70</td>\n",
       "      <td>Clear</td>\n",
       "      <td>Night</td>\n",
       "      <td>NO</td>\n",
       "      <td>NO</td>\n",
       "      <td>NO</td>\n",
       "      <td>NO</td>\n",
       "    </tr>\n",
       "    <tr>\n",
       "      <th>2</th>\n",
       "      <td>56</td>\n",
       "      <td>AUG</td>\n",
       "      <td>7</td>\n",
       "      <td>55024</td>\n",
       "      <td>Tuesday</td>\n",
       "      <td>Rockies</td>\n",
       "      <td>80</td>\n",
       "      <td>Clear</td>\n",
       "      <td>Night</td>\n",
       "      <td>NO</td>\n",
       "      <td>NO</td>\n",
       "      <td>NO</td>\n",
       "      <td>YES</td>\n",
       "    </tr>\n",
       "    <tr>\n",
       "      <th>3</th>\n",
       "      <td>6</td>\n",
       "      <td>APR</td>\n",
       "      <td>23</td>\n",
       "      <td>26376</td>\n",
       "      <td>Monday</td>\n",
       "      <td>Braves</td>\n",
       "      <td>60</td>\n",
       "      <td>Cloudy</td>\n",
       "      <td>Night</td>\n",
       "      <td>NO</td>\n",
       "      <td>NO</td>\n",
       "      <td>NO</td>\n",
       "      <td>NO</td>\n",
       "    </tr>\n",
       "    <tr>\n",
       "      <th>4</th>\n",
       "      <td>57</td>\n",
       "      <td>AUG</td>\n",
       "      <td>8</td>\n",
       "      <td>37084</td>\n",
       "      <td>Wednesday</td>\n",
       "      <td>Rockies</td>\n",
       "      <td>84</td>\n",
       "      <td>Clear</td>\n",
       "      <td>Night</td>\n",
       "      <td>NO</td>\n",
       "      <td>NO</td>\n",
       "      <td>NO</td>\n",
       "      <td>NO</td>\n",
       "    </tr>\n",
       "  </tbody>\n",
       "</table>\n",
       "</div>"
      ],
      "text/plain": [
       "   Unnamed: 0 month  day  attend day_of_week opponent  temp   skies day_night  \\\n",
       "0          58   AUG   20   36878      Monday   Giants    80  Clear      Night   \n",
       "1          62   AUG   25   40284    Saturday  Marlins    70  Clear      Night   \n",
       "2          56   AUG    7   55024     Tuesday  Rockies    80  Clear      Night   \n",
       "3           6   APR   23   26376      Monday   Braves    60  Cloudy     Night   \n",
       "4          57   AUG    8   37084   Wednesday  Rockies    84  Clear      Night   \n",
       "\n",
       "  cap shirt fireworks bobblehead  \n",
       "0  NO    NO        NO         NO  \n",
       "1  NO    NO        NO         NO  \n",
       "2  NO    NO        NO        YES  \n",
       "3  NO    NO        NO         NO  \n",
       "4  NO    NO        NO         NO  "
      ]
     },
     "execution_count": 2,
     "metadata": {},
     "output_type": "execute_result"
    }
   ],
   "source": [
    "df_train.head()"
   ]
  },
  {
   "cell_type": "code",
   "execution_count": 3,
   "metadata": {},
   "outputs": [
    {
     "data": {
      "text/html": [
       "<div>\n",
       "<style scoped>\n",
       "    .dataframe tbody tr th:only-of-type {\n",
       "        vertical-align: middle;\n",
       "    }\n",
       "\n",
       "    .dataframe tbody tr th {\n",
       "        vertical-align: top;\n",
       "    }\n",
       "\n",
       "    .dataframe thead th {\n",
       "        text-align: right;\n",
       "    }\n",
       "</style>\n",
       "<table border=\"1\" class=\"dataframe\">\n",
       "  <thead>\n",
       "    <tr style=\"text-align: right;\">\n",
       "      <th></th>\n",
       "      <th>Unnamed: 0</th>\n",
       "      <th>month</th>\n",
       "      <th>day</th>\n",
       "      <th>attend</th>\n",
       "      <th>day_of_week</th>\n",
       "      <th>opponent</th>\n",
       "      <th>temp</th>\n",
       "      <th>skies</th>\n",
       "      <th>day_night</th>\n",
       "      <th>cap</th>\n",
       "      <th>shirt</th>\n",
       "      <th>fireworks</th>\n",
       "      <th>bobblehead</th>\n",
       "    </tr>\n",
       "  </thead>\n",
       "  <tbody>\n",
       "    <tr>\n",
       "      <th>0</th>\n",
       "      <td>60</td>\n",
       "      <td>AUG</td>\n",
       "      <td>22</td>\n",
       "      <td>40173</td>\n",
       "      <td>Wednesday</td>\n",
       "      <td>Giants</td>\n",
       "      <td>75</td>\n",
       "      <td>Clear</td>\n",
       "      <td>Night</td>\n",
       "      <td>NO</td>\n",
       "      <td>NO</td>\n",
       "      <td>NO</td>\n",
       "      <td>NO</td>\n",
       "    </tr>\n",
       "    <tr>\n",
       "      <th>1</th>\n",
       "      <td>34</td>\n",
       "      <td>JUN</td>\n",
       "      <td>16</td>\n",
       "      <td>45210</td>\n",
       "      <td>Saturday</td>\n",
       "      <td>White Sox</td>\n",
       "      <td>68</td>\n",
       "      <td>Clear</td>\n",
       "      <td>Night</td>\n",
       "      <td>NO</td>\n",
       "      <td>NO</td>\n",
       "      <td>NO</td>\n",
       "      <td>NO</td>\n",
       "    </tr>\n",
       "    <tr>\n",
       "      <th>2</th>\n",
       "      <td>55</td>\n",
       "      <td>AUG</td>\n",
       "      <td>6</td>\n",
       "      <td>32659</td>\n",
       "      <td>Monday</td>\n",
       "      <td>Rockies</td>\n",
       "      <td>79</td>\n",
       "      <td>Clear</td>\n",
       "      <td>Night</td>\n",
       "      <td>NO</td>\n",
       "      <td>NO</td>\n",
       "      <td>NO</td>\n",
       "      <td>NO</td>\n",
       "    </tr>\n",
       "    <tr>\n",
       "      <th>3</th>\n",
       "      <td>31</td>\n",
       "      <td>JUN</td>\n",
       "      <td>12</td>\n",
       "      <td>55279</td>\n",
       "      <td>Tuesday</td>\n",
       "      <td>Angels</td>\n",
       "      <td>66</td>\n",
       "      <td>Cloudy</td>\n",
       "      <td>Night</td>\n",
       "      <td>NO</td>\n",
       "      <td>NO</td>\n",
       "      <td>NO</td>\n",
       "      <td>YES</td>\n",
       "    </tr>\n",
       "    <tr>\n",
       "      <th>4</th>\n",
       "      <td>39</td>\n",
       "      <td>JUL</td>\n",
       "      <td>1</td>\n",
       "      <td>55359</td>\n",
       "      <td>Sunday</td>\n",
       "      <td>Mets</td>\n",
       "      <td>75</td>\n",
       "      <td>Clear</td>\n",
       "      <td>Night</td>\n",
       "      <td>NO</td>\n",
       "      <td>NO</td>\n",
       "      <td>NO</td>\n",
       "      <td>YES</td>\n",
       "    </tr>\n",
       "  </tbody>\n",
       "</table>\n",
       "</div>"
      ],
      "text/plain": [
       "   Unnamed: 0 month  day  attend day_of_week   opponent  temp   skies  \\\n",
       "0          60   AUG   22   40173   Wednesday     Giants    75  Clear    \n",
       "1          34   JUN   16   45210    Saturday  White Sox    68  Clear    \n",
       "2          55   AUG    6   32659      Monday    Rockies    79  Clear    \n",
       "3          31   JUN   12   55279     Tuesday     Angels    66  Cloudy   \n",
       "4          39   JUL    1   55359      Sunday       Mets    75  Clear    \n",
       "\n",
       "  day_night cap shirt fireworks bobblehead  \n",
       "0     Night  NO    NO        NO         NO  \n",
       "1     Night  NO    NO        NO         NO  \n",
       "2     Night  NO    NO        NO         NO  \n",
       "3     Night  NO    NO        NO        YES  \n",
       "4     Night  NO    NO        NO        YES  "
      ]
     },
     "execution_count": 3,
     "metadata": {},
     "output_type": "execute_result"
    }
   ],
   "source": [
    "df_test.head()"
   ]
  },
  {
   "cell_type": "markdown",
   "metadata": {},
   "source": [
    "### 1) Encoding categorical Attributes"
   ]
  },
  {
   "cell_type": "markdown",
   "metadata": {},
   "source": [
    "###       a) To select columns which are needed and splitting dependent(y) and independent variables(x)"
   ]
  },
  {
   "cell_type": "code",
   "execution_count": 4,
   "metadata": {},
   "outputs": [],
   "source": [
    "df_train = df_train[['attend','temp','day_of_week','month','skies','bobblehead']]\n",
    "df_test = df_test[['attend','temp','day_of_week','month','skies','bobblehead']]"
   ]
  },
  {
   "cell_type": "code",
   "execution_count": 5,
   "metadata": {},
   "outputs": [],
   "source": [
    "x_df_train = df_train[['temp','day_of_week','month','skies','bobblehead']].copy()\n",
    "y_df_train= df_train[['attend']].copy()\n",
    "x_df_test = df_test[['temp','day_of_week','month','skies','bobblehead']].copy()\n",
    "y_df_test= df_test[['attend']].copy()"
   ]
  },
  {
   "cell_type": "markdown",
   "metadata": {},
   "source": [
    "### b) One hot encoding"
   ]
  },
  {
   "cell_type": "code",
   "execution_count": 6,
   "metadata": {},
   "outputs": [
    {
     "name": "stdout",
     "output_type": "stream",
     "text": [
      "   temp  day_of_week_Friday  day_of_week_Monday  day_of_week_Saturday  \\\n",
      "0    80                   0                   1                     0   \n",
      "1    70                   0                   0                     1   \n",
      "2    80                   0                   0                     0   \n",
      "3    60                   0                   1                     0   \n",
      "4    84                   0                   0                     0   \n",
      "\n",
      "   day_of_week_Sunday  day_of_week_Thursday  day_of_week_Tuesday  \\\n",
      "0                   0                     0                    0   \n",
      "1                   0                     0                    0   \n",
      "2                   0                     0                    1   \n",
      "3                   0                     0                    0   \n",
      "4                   0                     0                    0   \n",
      "\n",
      "   day_of_week_Wednesday  month_APR  month_AUG  month_JUL  month_JUN  \\\n",
      "0                      0          0          1          0          0   \n",
      "1                      0          0          1          0          0   \n",
      "2                      0          0          1          0          0   \n",
      "3                      0          1          0          0          0   \n",
      "4                      1          0          1          0          0   \n",
      "\n",
      "   month_MAY  month_OCT  month_SEP  skies_Clear   skies_Cloudy  bobblehead_NO  \\\n",
      "0          0          0          0             1             0              1   \n",
      "1          0          0          0             1             0              1   \n",
      "2          0          0          0             1             0              0   \n",
      "3          0          0          0             0             1              1   \n",
      "4          0          0          0             1             0              1   \n",
      "\n",
      "   bobblehead_YES  \n",
      "0               0  \n",
      "1               0  \n",
      "2               1  \n",
      "3               0  \n",
      "4               0  \n"
     ]
    }
   ],
   "source": [
    "x_df_train = pd.get_dummies(x_df_train)\n",
    "x_df_test = pd.get_dummies(x_df_test)\n",
    "print(x_df_train.head())"
   ]
  },
  {
   "cell_type": "markdown",
   "metadata": {},
   "source": [
    "## Q1- List the means and standard deviations of the encoded attributes before scaling"
   ]
  },
  {
   "cell_type": "code",
   "execution_count": 7,
   "metadata": {},
   "outputs": [
    {
     "name": "stdout",
     "output_type": "stream",
     "text": [
      "Means: temp                     73.642857\n",
      "day_of_week_Friday        0.178571\n",
      "day_of_week_Monday        0.142857\n",
      "day_of_week_Saturday      0.160714\n",
      "day_of_week_Sunday        0.196429\n",
      "day_of_week_Thursday      0.089286\n",
      "day_of_week_Tuesday       0.089286\n",
      "day_of_week_Wednesday     0.142857\n",
      "month_APR                 0.160714\n",
      "month_AUG                 0.214286\n",
      "month_JUL                 0.089286\n",
      "month_JUN                 0.089286\n",
      "month_MAY                 0.232143\n",
      "month_OCT                 0.017857\n",
      "month_SEP                 0.196429\n",
      "skies_Clear               0.803571\n",
      "skies_Cloudy              0.196429\n",
      "bobblehead_NO             0.910714\n",
      "bobblehead_YES            0.089286\n",
      "dtype: float64\n",
      "Standard Deviations: temp                     8.949207\n",
      "day_of_week_Friday       0.386459\n",
      "day_of_week_Monday       0.353094\n",
      "day_of_week_Saturday     0.370591\n",
      "day_of_week_Sunday       0.400892\n",
      "day_of_week_Thursday     0.287736\n",
      "day_of_week_Tuesday      0.287736\n",
      "day_of_week_Wednesday    0.353094\n",
      "month_APR                0.370591\n",
      "month_AUG                0.414039\n",
      "month_JUL                0.287736\n",
      "month_JUN                0.287736\n",
      "month_MAY                0.426021\n",
      "month_OCT                0.133631\n",
      "month_SEP                0.400892\n",
      "skies_Clear              0.400892\n",
      "skies_Cloudy             0.400892\n",
      "bobblehead_NO            0.287736\n",
      "bobblehead_YES           0.287736\n",
      "dtype: float64\n",
      "Means: temp                     72.04\n",
      "day_of_week_Friday        0.12\n",
      "day_of_week_Monday        0.16\n",
      "day_of_week_Saturday      0.16\n",
      "day_of_week_Sunday        0.08\n",
      "day_of_week_Tuesday       0.32\n",
      "day_of_week_Wednesday     0.16\n",
      "month_APR                 0.12\n",
      "month_AUG                 0.12\n",
      "month_JUL                 0.28\n",
      "month_JUN                 0.16\n",
      "month_MAY                 0.20\n",
      "month_OCT                 0.08\n",
      "month_SEP                 0.04\n",
      "skies_Clear               0.68\n",
      "skies_Cloudy              0.32\n",
      "bobblehead_NO             0.76\n",
      "bobblehead_YES            0.24\n",
      "dtype: float64\n",
      "Standard Deviations: temp                     6.723590\n",
      "day_of_week_Friday       0.331662\n",
      "day_of_week_Monday       0.374166\n",
      "day_of_week_Saturday     0.374166\n",
      "day_of_week_Sunday       0.276887\n",
      "day_of_week_Tuesday      0.476095\n",
      "day_of_week_Wednesday    0.374166\n",
      "month_APR                0.331662\n",
      "month_AUG                0.331662\n",
      "month_JUL                0.458258\n",
      "month_JUN                0.374166\n",
      "month_MAY                0.408248\n",
      "month_OCT                0.276887\n",
      "month_SEP                0.200000\n",
      "skies_Clear              0.476095\n",
      "skies_Cloudy             0.476095\n",
      "bobblehead_NO            0.435890\n",
      "bobblehead_YES           0.435890\n",
      "dtype: float64\n"
     ]
    }
   ],
   "source": [
    "print('Means:', x_df_train.mean())\n",
    "print('Standard Deviations:', x_df_train.std())\n",
    "print('Means:', x_df_test.mean())\n",
    "print('Standard Deviations:', x_df_test.std())"
   ]
  },
  {
   "cell_type": "markdown",
   "metadata": {},
   "source": [
    "### 2) To ensure same attributes in training and testing dataset, we have added thursday in testing dataset"
   ]
  },
  {
   "cell_type": "code",
   "execution_count": 8,
   "metadata": {},
   "outputs": [
    {
     "name": "stdout",
     "output_type": "stream",
     "text": [
      "<class 'pandas.core.frame.DataFrame'>\n",
      "RangeIndex: 56 entries, 0 to 55\n",
      "Data columns (total 19 columns):\n",
      "temp                     56 non-null int64\n",
      "day_of_week_Friday       56 non-null uint8\n",
      "day_of_week_Monday       56 non-null uint8\n",
      "day_of_week_Saturday     56 non-null uint8\n",
      "day_of_week_Sunday       56 non-null uint8\n",
      "day_of_week_Thursday     56 non-null uint8\n",
      "day_of_week_Tuesday      56 non-null uint8\n",
      "day_of_week_Wednesday    56 non-null uint8\n",
      "month_APR                56 non-null uint8\n",
      "month_AUG                56 non-null uint8\n",
      "month_JUL                56 non-null uint8\n",
      "month_JUN                56 non-null uint8\n",
      "month_MAY                56 non-null uint8\n",
      "month_OCT                56 non-null uint8\n",
      "month_SEP                56 non-null uint8\n",
      "skies_Clear              56 non-null uint8\n",
      "skies_Cloudy             56 non-null uint8\n",
      "bobblehead_NO            56 non-null uint8\n",
      "bobblehead_YES           56 non-null uint8\n",
      "dtypes: int64(1), uint8(18)\n",
      "memory usage: 1.5 KB\n",
      "<class 'pandas.core.frame.DataFrame'>\n",
      "RangeIndex: 25 entries, 0 to 24\n",
      "Data columns (total 19 columns):\n",
      "temp                     25 non-null int64\n",
      "day_of_week_Friday       25 non-null uint8\n",
      "day_of_week_Monday       25 non-null uint8\n",
      "day_of_week_Saturday     25 non-null uint8\n",
      "day_of_week_Sunday       25 non-null uint8\n",
      "day_of_week_Thursday     25 non-null int64\n",
      "day_of_week_Tuesday      25 non-null uint8\n",
      "day_of_week_Wednesday    25 non-null uint8\n",
      "month_APR                25 non-null uint8\n",
      "month_AUG                25 non-null uint8\n",
      "month_JUL                25 non-null uint8\n",
      "month_JUN                25 non-null uint8\n",
      "month_MAY                25 non-null uint8\n",
      "month_OCT                25 non-null uint8\n",
      "month_SEP                25 non-null uint8\n",
      "skies_Clear              25 non-null uint8\n",
      "skies_Cloudy             25 non-null uint8\n",
      "bobblehead_NO            25 non-null uint8\n",
      "bobblehead_YES           25 non-null uint8\n",
      "dtypes: int64(2), uint8(17)\n",
      "memory usage: 905.0 bytes\n"
     ]
    }
   ],
   "source": [
    "# To make the number of attributes in testing and training data equal\n",
    "x_df_test.insert(5, 'day_of_week_Thursday', 0)\n",
    "x_df_train.info()\n",
    "x_df_test.info()"
   ]
  },
  {
   "cell_type": "markdown",
   "metadata": {},
   "source": [
    "### 3) Standardization"
   ]
  },
  {
   "cell_type": "code",
   "execution_count": 9,
   "metadata": {},
   "outputs": [],
   "source": [
    "# with train data\n",
    "scaler = preprocessing.StandardScaler(copy=True, with_mean=True, with_std=True)\n",
    "scaled_x_df_train = scaler.fit_transform(x_df_train)\n",
    "scaled_x_df_train = pd.DataFrame(scaled_x_df_train, columns=x_df_train.columns)"
   ]
  },
  {
   "cell_type": "code",
   "execution_count": 10,
   "metadata": {},
   "outputs": [
    {
     "data": {
      "text/html": [
       "<div>\n",
       "<style scoped>\n",
       "    .dataframe tbody tr th:only-of-type {\n",
       "        vertical-align: middle;\n",
       "    }\n",
       "\n",
       "    .dataframe tbody tr th {\n",
       "        vertical-align: top;\n",
       "    }\n",
       "\n",
       "    .dataframe thead th {\n",
       "        text-align: right;\n",
       "    }\n",
       "</style>\n",
       "<table border=\"1\" class=\"dataframe\">\n",
       "  <thead>\n",
       "    <tr style=\"text-align: right;\">\n",
       "      <th></th>\n",
       "      <th>temp</th>\n",
       "      <th>day_of_week_Friday</th>\n",
       "      <th>day_of_week_Monday</th>\n",
       "      <th>day_of_week_Saturday</th>\n",
       "      <th>day_of_week_Sunday</th>\n",
       "      <th>day_of_week_Thursday</th>\n",
       "      <th>day_of_week_Tuesday</th>\n",
       "      <th>day_of_week_Wednesday</th>\n",
       "      <th>month_APR</th>\n",
       "      <th>month_AUG</th>\n",
       "      <th>month_JUL</th>\n",
       "      <th>month_JUN</th>\n",
       "      <th>month_MAY</th>\n",
       "      <th>month_OCT</th>\n",
       "      <th>month_SEP</th>\n",
       "      <th>skies_Clear</th>\n",
       "      <th>skies_Cloudy</th>\n",
       "      <th>bobblehead_NO</th>\n",
       "      <th>bobblehead_YES</th>\n",
       "    </tr>\n",
       "  </thead>\n",
       "  <tbody>\n",
       "    <tr>\n",
       "      <th>0</th>\n",
       "      <td>0.716787</td>\n",
       "      <td>-0.466252</td>\n",
       "      <td>2.449490</td>\n",
       "      <td>-0.437595</td>\n",
       "      <td>-0.494413</td>\n",
       "      <td>-0.313112</td>\n",
       "      <td>-0.313112</td>\n",
       "      <td>-0.408248</td>\n",
       "      <td>-0.437595</td>\n",
       "      <td>1.914854</td>\n",
       "      <td>-0.313112</td>\n",
       "      <td>-0.313112</td>\n",
       "      <td>-0.549841</td>\n",
       "      <td>-0.13484</td>\n",
       "      <td>-0.494413</td>\n",
       "      <td>0.494413</td>\n",
       "      <td>-0.494413</td>\n",
       "      <td>0.313112</td>\n",
       "      <td>-0.313112</td>\n",
       "    </tr>\n",
       "    <tr>\n",
       "      <th>1</th>\n",
       "      <td>-0.410743</td>\n",
       "      <td>-0.466252</td>\n",
       "      <td>-0.408248</td>\n",
       "      <td>2.285218</td>\n",
       "      <td>-0.494413</td>\n",
       "      <td>-0.313112</td>\n",
       "      <td>-0.313112</td>\n",
       "      <td>-0.408248</td>\n",
       "      <td>-0.437595</td>\n",
       "      <td>1.914854</td>\n",
       "      <td>-0.313112</td>\n",
       "      <td>-0.313112</td>\n",
       "      <td>-0.549841</td>\n",
       "      <td>-0.13484</td>\n",
       "      <td>-0.494413</td>\n",
       "      <td>0.494413</td>\n",
       "      <td>-0.494413</td>\n",
       "      <td>0.313112</td>\n",
       "      <td>-0.313112</td>\n",
       "    </tr>\n",
       "    <tr>\n",
       "      <th>2</th>\n",
       "      <td>0.716787</td>\n",
       "      <td>-0.466252</td>\n",
       "      <td>-0.408248</td>\n",
       "      <td>-0.437595</td>\n",
       "      <td>-0.494413</td>\n",
       "      <td>-0.313112</td>\n",
       "      <td>3.193744</td>\n",
       "      <td>-0.408248</td>\n",
       "      <td>-0.437595</td>\n",
       "      <td>1.914854</td>\n",
       "      <td>-0.313112</td>\n",
       "      <td>-0.313112</td>\n",
       "      <td>-0.549841</td>\n",
       "      <td>-0.13484</td>\n",
       "      <td>-0.494413</td>\n",
       "      <td>0.494413</td>\n",
       "      <td>-0.494413</td>\n",
       "      <td>-3.193744</td>\n",
       "      <td>3.193744</td>\n",
       "    </tr>\n",
       "    <tr>\n",
       "      <th>3</th>\n",
       "      <td>-1.538273</td>\n",
       "      <td>-0.466252</td>\n",
       "      <td>2.449490</td>\n",
       "      <td>-0.437595</td>\n",
       "      <td>-0.494413</td>\n",
       "      <td>-0.313112</td>\n",
       "      <td>-0.313112</td>\n",
       "      <td>-0.408248</td>\n",
       "      <td>2.285218</td>\n",
       "      <td>-0.522233</td>\n",
       "      <td>-0.313112</td>\n",
       "      <td>-0.313112</td>\n",
       "      <td>-0.549841</td>\n",
       "      <td>-0.13484</td>\n",
       "      <td>-0.494413</td>\n",
       "      <td>-2.022600</td>\n",
       "      <td>2.022600</td>\n",
       "      <td>0.313112</td>\n",
       "      <td>-0.313112</td>\n",
       "    </tr>\n",
       "    <tr>\n",
       "      <th>4</th>\n",
       "      <td>1.167799</td>\n",
       "      <td>-0.466252</td>\n",
       "      <td>-0.408248</td>\n",
       "      <td>-0.437595</td>\n",
       "      <td>-0.494413</td>\n",
       "      <td>-0.313112</td>\n",
       "      <td>-0.313112</td>\n",
       "      <td>2.449490</td>\n",
       "      <td>-0.437595</td>\n",
       "      <td>1.914854</td>\n",
       "      <td>-0.313112</td>\n",
       "      <td>-0.313112</td>\n",
       "      <td>-0.549841</td>\n",
       "      <td>-0.13484</td>\n",
       "      <td>-0.494413</td>\n",
       "      <td>0.494413</td>\n",
       "      <td>-0.494413</td>\n",
       "      <td>0.313112</td>\n",
       "      <td>-0.313112</td>\n",
       "    </tr>\n",
       "  </tbody>\n",
       "</table>\n",
       "</div>"
      ],
      "text/plain": [
       "       temp  day_of_week_Friday  day_of_week_Monday  day_of_week_Saturday  \\\n",
       "0  0.716787           -0.466252            2.449490             -0.437595   \n",
       "1 -0.410743           -0.466252           -0.408248              2.285218   \n",
       "2  0.716787           -0.466252           -0.408248             -0.437595   \n",
       "3 -1.538273           -0.466252            2.449490             -0.437595   \n",
       "4  1.167799           -0.466252           -0.408248             -0.437595   \n",
       "\n",
       "   day_of_week_Sunday  day_of_week_Thursday  day_of_week_Tuesday  \\\n",
       "0           -0.494413             -0.313112            -0.313112   \n",
       "1           -0.494413             -0.313112            -0.313112   \n",
       "2           -0.494413             -0.313112             3.193744   \n",
       "3           -0.494413             -0.313112            -0.313112   \n",
       "4           -0.494413             -0.313112            -0.313112   \n",
       "\n",
       "   day_of_week_Wednesday  month_APR  month_AUG  month_JUL  month_JUN  \\\n",
       "0              -0.408248  -0.437595   1.914854  -0.313112  -0.313112   \n",
       "1              -0.408248  -0.437595   1.914854  -0.313112  -0.313112   \n",
       "2              -0.408248  -0.437595   1.914854  -0.313112  -0.313112   \n",
       "3              -0.408248   2.285218  -0.522233  -0.313112  -0.313112   \n",
       "4               2.449490  -0.437595   1.914854  -0.313112  -0.313112   \n",
       "\n",
       "   month_MAY  month_OCT  month_SEP  skies_Clear   skies_Cloudy  bobblehead_NO  \\\n",
       "0  -0.549841   -0.13484  -0.494413      0.494413     -0.494413       0.313112   \n",
       "1  -0.549841   -0.13484  -0.494413      0.494413     -0.494413       0.313112   \n",
       "2  -0.549841   -0.13484  -0.494413      0.494413     -0.494413      -3.193744   \n",
       "3  -0.549841   -0.13484  -0.494413     -2.022600      2.022600       0.313112   \n",
       "4  -0.549841   -0.13484  -0.494413      0.494413     -0.494413       0.313112   \n",
       "\n",
       "   bobblehead_YES  \n",
       "0       -0.313112  \n",
       "1       -0.313112  \n",
       "2        3.193744  \n",
       "3       -0.313112  \n",
       "4       -0.313112  "
      ]
     },
     "execution_count": 10,
     "metadata": {},
     "output_type": "execute_result"
    }
   ],
   "source": [
    "scaled_x_df_train.head()"
   ]
  },
  {
   "cell_type": "code",
   "execution_count": 11,
   "metadata": {},
   "outputs": [],
   "source": [
    "#with test data\n",
    "scaler_mode = preprocessing.StandardScaler().fit(x_df_test)\n",
    "scaled_x_df_test = scaler_mode.transform(x_df_test)\n",
    "scaled_x_df_test = pd.DataFrame(scaled_x_df_test, columns=x_df_test.columns)"
   ]
  },
  {
   "cell_type": "code",
   "execution_count": 12,
   "metadata": {},
   "outputs": [
    {
     "data": {
      "text/html": [
       "<div>\n",
       "<style scoped>\n",
       "    .dataframe tbody tr th:only-of-type {\n",
       "        vertical-align: middle;\n",
       "    }\n",
       "\n",
       "    .dataframe tbody tr th {\n",
       "        vertical-align: top;\n",
       "    }\n",
       "\n",
       "    .dataframe thead th {\n",
       "        text-align: right;\n",
       "    }\n",
       "</style>\n",
       "<table border=\"1\" class=\"dataframe\">\n",
       "  <thead>\n",
       "    <tr style=\"text-align: right;\">\n",
       "      <th></th>\n",
       "      <th>temp</th>\n",
       "      <th>day_of_week_Friday</th>\n",
       "      <th>day_of_week_Monday</th>\n",
       "      <th>day_of_week_Saturday</th>\n",
       "      <th>day_of_week_Sunday</th>\n",
       "      <th>day_of_week_Thursday</th>\n",
       "      <th>day_of_week_Tuesday</th>\n",
       "      <th>day_of_week_Wednesday</th>\n",
       "      <th>month_APR</th>\n",
       "      <th>month_AUG</th>\n",
       "      <th>month_JUL</th>\n",
       "      <th>month_JUN</th>\n",
       "      <th>month_MAY</th>\n",
       "      <th>month_OCT</th>\n",
       "      <th>month_SEP</th>\n",
       "      <th>skies_Clear</th>\n",
       "      <th>skies_Cloudy</th>\n",
       "      <th>bobblehead_NO</th>\n",
       "      <th>bobblehead_YES</th>\n",
       "    </tr>\n",
       "  </thead>\n",
       "  <tbody>\n",
       "    <tr>\n",
       "      <th>0</th>\n",
       "      <td>0.449319</td>\n",
       "      <td>-0.369274</td>\n",
       "      <td>-0.436436</td>\n",
       "      <td>-0.436436</td>\n",
       "      <td>-0.294884</td>\n",
       "      <td>0.0</td>\n",
       "      <td>-0.685994</td>\n",
       "      <td>2.291288</td>\n",
       "      <td>-0.369274</td>\n",
       "      <td>2.708013</td>\n",
       "      <td>-0.623610</td>\n",
       "      <td>-0.436436</td>\n",
       "      <td>-0.5</td>\n",
       "      <td>-0.294884</td>\n",
       "      <td>-0.204124</td>\n",
       "      <td>0.685994</td>\n",
       "      <td>-0.685994</td>\n",
       "      <td>0.561951</td>\n",
       "      <td>-0.561951</td>\n",
       "    </tr>\n",
       "    <tr>\n",
       "      <th>1</th>\n",
       "      <td>-0.613260</td>\n",
       "      <td>-0.369274</td>\n",
       "      <td>-0.436436</td>\n",
       "      <td>2.291288</td>\n",
       "      <td>-0.294884</td>\n",
       "      <td>0.0</td>\n",
       "      <td>-0.685994</td>\n",
       "      <td>-0.436436</td>\n",
       "      <td>-0.369274</td>\n",
       "      <td>-0.369274</td>\n",
       "      <td>-0.623610</td>\n",
       "      <td>2.291288</td>\n",
       "      <td>-0.5</td>\n",
       "      <td>-0.294884</td>\n",
       "      <td>-0.204124</td>\n",
       "      <td>0.685994</td>\n",
       "      <td>-0.685994</td>\n",
       "      <td>0.561951</td>\n",
       "      <td>-0.561951</td>\n",
       "    </tr>\n",
       "    <tr>\n",
       "      <th>2</th>\n",
       "      <td>1.056507</td>\n",
       "      <td>-0.369274</td>\n",
       "      <td>2.291288</td>\n",
       "      <td>-0.436436</td>\n",
       "      <td>-0.294884</td>\n",
       "      <td>0.0</td>\n",
       "      <td>-0.685994</td>\n",
       "      <td>-0.436436</td>\n",
       "      <td>-0.369274</td>\n",
       "      <td>2.708013</td>\n",
       "      <td>-0.623610</td>\n",
       "      <td>-0.436436</td>\n",
       "      <td>-0.5</td>\n",
       "      <td>-0.294884</td>\n",
       "      <td>-0.204124</td>\n",
       "      <td>0.685994</td>\n",
       "      <td>-0.685994</td>\n",
       "      <td>0.561951</td>\n",
       "      <td>-0.561951</td>\n",
       "    </tr>\n",
       "    <tr>\n",
       "      <th>3</th>\n",
       "      <td>-0.916854</td>\n",
       "      <td>-0.369274</td>\n",
       "      <td>-0.436436</td>\n",
       "      <td>-0.436436</td>\n",
       "      <td>-0.294884</td>\n",
       "      <td>0.0</td>\n",
       "      <td>1.457738</td>\n",
       "      <td>-0.436436</td>\n",
       "      <td>-0.369274</td>\n",
       "      <td>-0.369274</td>\n",
       "      <td>-0.623610</td>\n",
       "      <td>2.291288</td>\n",
       "      <td>-0.5</td>\n",
       "      <td>-0.294884</td>\n",
       "      <td>-0.204124</td>\n",
       "      <td>-1.457738</td>\n",
       "      <td>1.457738</td>\n",
       "      <td>-1.779513</td>\n",
       "      <td>1.779513</td>\n",
       "    </tr>\n",
       "    <tr>\n",
       "      <th>4</th>\n",
       "      <td>0.449319</td>\n",
       "      <td>-0.369274</td>\n",
       "      <td>-0.436436</td>\n",
       "      <td>-0.436436</td>\n",
       "      <td>3.391165</td>\n",
       "      <td>0.0</td>\n",
       "      <td>-0.685994</td>\n",
       "      <td>-0.436436</td>\n",
       "      <td>-0.369274</td>\n",
       "      <td>-0.369274</td>\n",
       "      <td>1.603567</td>\n",
       "      <td>-0.436436</td>\n",
       "      <td>-0.5</td>\n",
       "      <td>-0.294884</td>\n",
       "      <td>-0.204124</td>\n",
       "      <td>0.685994</td>\n",
       "      <td>-0.685994</td>\n",
       "      <td>-1.779513</td>\n",
       "      <td>1.779513</td>\n",
       "    </tr>\n",
       "  </tbody>\n",
       "</table>\n",
       "</div>"
      ],
      "text/plain": [
       "       temp  day_of_week_Friday  day_of_week_Monday  day_of_week_Saturday  \\\n",
       "0  0.449319           -0.369274           -0.436436             -0.436436   \n",
       "1 -0.613260           -0.369274           -0.436436              2.291288   \n",
       "2  1.056507           -0.369274            2.291288             -0.436436   \n",
       "3 -0.916854           -0.369274           -0.436436             -0.436436   \n",
       "4  0.449319           -0.369274           -0.436436             -0.436436   \n",
       "\n",
       "   day_of_week_Sunday  day_of_week_Thursday  day_of_week_Tuesday  \\\n",
       "0           -0.294884                   0.0            -0.685994   \n",
       "1           -0.294884                   0.0            -0.685994   \n",
       "2           -0.294884                   0.0            -0.685994   \n",
       "3           -0.294884                   0.0             1.457738   \n",
       "4            3.391165                   0.0            -0.685994   \n",
       "\n",
       "   day_of_week_Wednesday  month_APR  month_AUG  month_JUL  month_JUN  \\\n",
       "0               2.291288  -0.369274   2.708013  -0.623610  -0.436436   \n",
       "1              -0.436436  -0.369274  -0.369274  -0.623610   2.291288   \n",
       "2              -0.436436  -0.369274   2.708013  -0.623610  -0.436436   \n",
       "3              -0.436436  -0.369274  -0.369274  -0.623610   2.291288   \n",
       "4              -0.436436  -0.369274  -0.369274   1.603567  -0.436436   \n",
       "\n",
       "   month_MAY  month_OCT  month_SEP  skies_Clear   skies_Cloudy  bobblehead_NO  \\\n",
       "0       -0.5  -0.294884  -0.204124      0.685994     -0.685994       0.561951   \n",
       "1       -0.5  -0.294884  -0.204124      0.685994     -0.685994       0.561951   \n",
       "2       -0.5  -0.294884  -0.204124      0.685994     -0.685994       0.561951   \n",
       "3       -0.5  -0.294884  -0.204124     -1.457738      1.457738      -1.779513   \n",
       "4       -0.5  -0.294884  -0.204124      0.685994     -0.685994      -1.779513   \n",
       "\n",
       "   bobblehead_YES  \n",
       "0       -0.561951  \n",
       "1       -0.561951  \n",
       "2       -0.561951  \n",
       "3        1.779513  \n",
       "4        1.779513  "
      ]
     },
     "execution_count": 12,
     "metadata": {},
     "output_type": "execute_result"
    }
   ],
   "source": [
    "scaled_x_df_test.head()"
   ]
  },
  {
   "cell_type": "markdown",
   "metadata": {},
   "source": [
    "### 4) Ridge(L2) Regression with leave one out cross validation"
   ]
  },
  {
   "cell_type": "code",
   "execution_count": 13,
   "metadata": {
    "scrolled": true
   },
   "outputs": [
    {
     "data": {
      "text/plain": [
       "RidgeCV(alphas=array([1.000e-01, 1.020e+01, 2.030e+01, 3.040e+01, 4.050e+01, 5.060e+01,\n",
       "       6.070e+01, 7.080e+01, 8.090e+01, 9.100e+01, 1.011e+02, 1.112e+02,\n",
       "       1.213e+02, 1.314e+02, 1.415e+02, 1.516e+02, 1.617e+02, 1.718e+02,\n",
       "       1.819e+02, 1.920e+02, 2.021e+02, 2.122e+02, 2.223e+02, 2.324e+02,\n",
       "       2.425e+02, 2.526e+02, 2.627e+02, 2.728e+02, 2.829e+02, 2.930e+02,\n",
       "       3.031e+02, 3.132e+02, 3.233e+0...\n",
       "       7.273e+02, 7.374e+02, 7.475e+02, 7.576e+02, 7.677e+02, 7.778e+02,\n",
       "       7.879e+02, 7.980e+02, 8.081e+02, 8.182e+02, 8.283e+02, 8.384e+02,\n",
       "       8.485e+02, 8.586e+02, 8.687e+02, 8.788e+02, 8.889e+02, 8.990e+02,\n",
       "       9.091e+02, 9.192e+02, 9.293e+02, 9.394e+02, 9.495e+02, 9.596e+02,\n",
       "       9.697e+02, 9.798e+02, 9.899e+02, 1.000e+03]),\n",
       "        cv=None, fit_intercept=True, gcv_mode=None, normalize=False,\n",
       "        scoring=None, store_cv_values=True)"
      ]
     },
     "execution_count": 13,
     "metadata": {},
     "output_type": "execute_result"
    }
   ],
   "source": [
    "l2_model = RidgeCV(alphas=np.linspace(0.1,1000,100), cv=None, store_cv_values=True)\n",
    "l2_model.fit(scaled_x_df_train, y_df_train)"
   ]
  },
  {
   "cell_type": "markdown",
   "metadata": {},
   "source": [
    "### Q2. Best L2 regularization coefficient and its corresponding linear coefficients."
   ]
  },
  {
   "cell_type": "code",
   "execution_count": 14,
   "metadata": {},
   "outputs": [
    {
     "name": "stdout",
     "output_type": "stream",
     "text": [
      "alpha =  50.6\n",
      "coef =  [[  515.85380007    67.69322043  -835.67182144   490.25315842\n",
      "    238.14165655  -341.53918562  1070.28517076  -617.19884398\n",
      "   -273.56102806   457.54654532  -216.88248689  1102.57100111\n",
      "   -605.71237164   -75.78927596  -186.41964828   271.19412682\n",
      "   -271.19412682 -1145.58152754  1145.58152754]]\n",
      "R2=  0.10450004637534283\n"
     ]
    }
   ],
   "source": [
    "print('alpha = ', l2_model.alpha_) \n",
    "print('coef = ', l2_model.coef_)\n",
    "l2_predict = l2_model.predict(scaled_x_df_test)\n",
    "print('R2= ',r2_score(y_df_test,l2_predict))"
   ]
  },
  {
   "cell_type": "markdown",
   "metadata": {},
   "source": [
    "### L1 Regularization"
   ]
  },
  {
   "cell_type": "code",
   "execution_count": 15,
   "metadata": {},
   "outputs": [
    {
     "data": {
      "text/plain": [
       "LassoCV(alphas=array([1.000e-01, 1.020e+01, 2.030e+01, 3.040e+01, 4.050e+01, 5.060e+01,\n",
       "       6.070e+01, 7.080e+01, 8.090e+01, 9.100e+01, 1.011e+02, 1.112e+02,\n",
       "       1.213e+02, 1.314e+02, 1.415e+02, 1.516e+02, 1.617e+02, 1.718e+02,\n",
       "       1.819e+02, 1.920e+02, 2.021e+02, 2.122e+02, 2.223e+02, 2.324e+02,\n",
       "       2.425e+02, 2.526e+02, 2.627e+02, 2.728e+02, 2.829e+02, 2.930e+02,\n",
       "       3.031e+02, 3.132e+02, 3.233e+0...\n",
       "       8.485e+02, 8.586e+02, 8.687e+02, 8.788e+02, 8.889e+02, 8.990e+02,\n",
       "       9.091e+02, 9.192e+02, 9.293e+02, 9.394e+02, 9.495e+02, 9.596e+02,\n",
       "       9.697e+02, 9.798e+02, 9.899e+02, 1.000e+03]),\n",
       "        copy_X=True, cv=56, eps=0.001, fit_intercept=True, max_iter=1000,\n",
       "        n_alphas=100, n_jobs=None, normalize=False, positive=False,\n",
       "        precompute='auto', random_state=None, selection='cyclic', tol=0.0001,\n",
       "        verbose=False)"
      ]
     },
     "execution_count": 15,
     "metadata": {},
     "output_type": "execute_result"
    }
   ],
   "source": [
    "l1_model = LassoCV(alphas=np.linspace(0.1,1000,100), cv=scaled_x_df_train.shape[0])\n",
    "l1_model.fit(scaled_x_df_train, y_df_train)"
   ]
  },
  {
   "cell_type": "markdown",
   "metadata": {},
   "source": [
    "### Q3. Best L1 regularization coefficient and its corresponding linear coefficients."
   ]
  },
  {
   "cell_type": "code",
   "execution_count": 16,
   "metadata": {},
   "outputs": [
    {
     "name": "stdout",
     "output_type": "stream",
     "text": [
      "alpha =  484.9\n",
      "coef =  [ 8.22025188e+02  0.00000000e+00 -1.16696636e+03  1.74176903e+02\n",
      "  0.00000000e+00 -4.80145275e+02  1.38225666e+03 -8.85411307e+02\n",
      " -0.00000000e+00  7.53520951e+02  0.00000000e+00  1.93339335e+03\n",
      " -1.24766089e+02 -0.00000000e+00 -0.00000000e+00  0.00000000e+00\n",
      " -0.00000000e+00 -2.64059882e+03  3.24819536e-13]\n",
      "R2 =  0.07724321569205606\n"
     ]
    }
   ],
   "source": [
    "print('alpha = ', l1_model.alpha_)\n",
    "print('coef = ', l1_model.coef_)\n",
    "print('R2 = ', l1_model.score(scaled_x_df_test, y_df_test))"
   ]
  },
  {
   "cell_type": "markdown",
   "metadata": {},
   "source": [
    "#### Linear Regression"
   ]
  },
  {
   "cell_type": "code",
   "execution_count": 17,
   "metadata": {},
   "outputs": [
    {
     "data": {
      "text/plain": [
       "LinearRegression(copy_X=True, fit_intercept=True, n_jobs=None, normalize=False)"
      ]
     },
     "execution_count": 17,
     "metadata": {},
     "output_type": "execute_result"
    }
   ],
   "source": [
    "linear_model = LinearRegression() \n",
    "linear_model.fit(scaled_x_df_train, y_df_train)"
   ]
  },
  {
   "cell_type": "markdown",
   "metadata": {},
   "source": [
    "### Q4.What are the predictive attributes selected as a result of L1 regularization?\n",
    "#### Ans: The coefficients which are non zero contributes for the prediction. So, all the attributes with nen-zero coefficients are selected as predictive attributes. \n",
    "* temp\n",
    "* day_of_week_Monday\n",
    "* day_of_week_Saturday\n",
    "* day_of_week_Thursday\n",
    "* day_of_week_Tuesday\n",
    "* day_of_week_Wednesday\n",
    "* month_AUG\n",
    "* month_JUN\n",
    "* month_MAY\n",
    "* bobblehead_NO\n",
    "* bobblehead_YES\n",
    "\n",
    "\n",
    "#### Go through the below code for clear understanding"
   ]
  },
  {
   "cell_type": "code",
   "execution_count": 18,
   "metadata": {},
   "outputs": [
    {
     "name": "stdout",
     "output_type": "stream",
     "text": [
      "temp\n",
      "day_of_week_Monday\n",
      "day_of_week_Saturday\n",
      "day_of_week_Thursday\n",
      "day_of_week_Tuesday\n",
      "day_of_week_Wednesday\n",
      "month_AUG\n",
      "month_JUN\n",
      "month_MAY\n",
      "bobblehead_NO\n",
      "bobblehead_YES\n"
     ]
    }
   ],
   "source": [
    "x_df_train.columns\n",
    "for i, attr in zip(range(len(x_df_train.columns)),l1_model.coef_):\n",
    "    if attr!=0:\n",
    "        print (x_df_train.columns[i])"
   ]
  },
  {
   "cell_type": "markdown",
   "metadata": {},
   "source": [
    "### Q5. For the models corresponding to the best L2 and L1 regularization coefficients list the following root-mean-square-error (RMSE): (1) RMSE on the training set, (2) expected prediction RMSE obtained during the cross-validation, (3) RMSE on the testing set. For the linear model without regularization list the following RMSE: (1) RMSE on the training set, and (2) RMSE on the testing set."
   ]
  },
  {
   "cell_type": "code",
   "execution_count": 19,
   "metadata": {
    "scrolled": true
   },
   "outputs": [
    {
     "name": "stdout",
     "output_type": "stream",
     "text": [
      "1. L2 - RMSE train =  5648.864216385293\n",
      "2. L2 - RMSE test =  7797.67936197997\n",
      "3. L1 - RMSE train =  5464.526854404769\n",
      "4. L1 - RMSE test =  7915.460987936537\n",
      "5. No regularization - RMSE train =  5254.5387249249425\n",
      "6. No regularization - RMSE test =  7660.824357772815\n",
      "7. L2 Expected RMSE during cross validation =  6737.660948839507\n",
      "8. L1 Expected RMSE during cross validation =  7018.958314999469\n"
     ]
    }
   ],
   "source": [
    "# check RMSE performance both training and testing for both L2 and L1 and no regularization and during cross validation.\n",
    "\n",
    "# RMSE on training and test data of L2\n",
    "l2_train_predict = l2_model.predict(scaled_x_df_train)\n",
    "print('1. L2 - RMSE train = ', np.sqrt(mean_squared_error(l2_train_predict,y_df_train)))\n",
    "\n",
    "l2_test_predict = l2_model.predict(scaled_x_df_test)\n",
    "print('2. L2 - RMSE test = ', np.sqrt(mean_squared_error(l2_test_predict,y_df_test)))\n",
    "\n",
    "# RMSE on training and test data of L1\n",
    "l1_train_predict = l1_model.predict(scaled_x_df_train)\n",
    "print('3. L1 - RMSE train = ', np.sqrt(mean_squared_error(l1_train_predict,y_df_train)))\n",
    "\n",
    "l1_test_predict = l1_model.predict(scaled_x_df_test)\n",
    "print('4. L1 - RMSE test = ', np.sqrt(mean_squared_error(l1_test_predict,y_df_test)))\n",
    "\n",
    "# RMSE on training and test data of linear model without regularization\n",
    "\n",
    "linear_train_predict = linear_model.predict(scaled_x_df_train)\n",
    "print('5. No regularization - RMSE train = ', np.sqrt(mean_squared_error(linear_train_predict,y_df_train)))\n",
    "\n",
    "linear_test_predict = linear_model.predict(scaled_x_df_test)\n",
    "print('6. No regularization - RMSE test = ', np.sqrt(mean_squared_error(linear_test_predict,y_df_test)))\n",
    "\n",
    "#Expected Prediction RMSE obtained during the cross validation for L2 and L1 Regularization\n",
    "print(\"7. L2 Expected RMSE during cross validation = \", np.min(np.sqrt(l2_model.cv_values_.mean(axis = 0))))\n",
    "print(\"8. L1 Expected RMSE during cross validation = \", np.min(np.sqrt(l1_model.mse_path_.mean(axis = 1))))\n"
   ]
  },
  {
   "cell_type": "markdown",
   "metadata": {},
   "source": [
    "### Q6. What observations can you make based on the above RMSE?\n",
    "#### Ans: \n",
    "* Over Fitting on L1 and L2.\n",
    "\n",
    "* L1 is performed better comparatively to that of L2 on test data\n",
    "\n",
    "* Test RMSE is less than that of train RMSE in all three models \n"
   ]
  },
  {
   "cell_type": "markdown",
   "metadata": {},
   "source": [
    "### Q7. Predict the attendance on a clear Monday in June when the expected temperature is 72 for all three models with and without bobbleheads. Does bobblehead promotion have an impact on the attendance?7"
   ]
  },
  {
   "cell_type": "code",
   "execution_count": 20,
   "metadata": {},
   "outputs": [],
   "source": [
    "bobblehead_no = x_df_train[x_df_train['month_JUN']==1]\n",
    "bobblehead_no = bobblehead_no[bobblehead_no['day_of_week_Monday']==1]\n",
    "bobblehead_no['temp']=72\n",
    "bobblehead_no_scaled=scaler_mode.transform(bobblehead_no)"
   ]
  },
  {
   "cell_type": "code",
   "execution_count": 21,
   "metadata": {},
   "outputs": [
    {
     "data": {
      "text/plain": [
       "array([39078.34364866])"
      ]
     },
     "execution_count": 21,
     "metadata": {},
     "output_type": "execute_result"
    }
   ],
   "source": [
    "bobblehead_no_predict = l1_model.predict(bobblehead_no_scaled)\n",
    "bobblehead_no_predict"
   ]
  },
  {
   "cell_type": "code",
   "execution_count": 22,
   "metadata": {},
   "outputs": [
    {
     "data": {
      "text/plain": [
       "array([[39014.30636444]])"
      ]
     },
     "execution_count": 22,
     "metadata": {},
     "output_type": "execute_result"
    }
   ],
   "source": [
    "bobblehead_no_predict = l2_model.predict(bobblehead_no_scaled)\n",
    "bobblehead_no_predict"
   ]
  },
  {
   "cell_type": "code",
   "execution_count": 23,
   "metadata": {},
   "outputs": [
    {
     "data": {
      "text/plain": [
       "array([[38583.55528661]])"
      ]
     },
     "execution_count": 23,
     "metadata": {},
     "output_type": "execute_result"
    }
   ],
   "source": [
    "bobblehead_no_predict = linear_model.predict(bobblehead_no_scaled)\n",
    "bobblehead_no_predict"
   ]
  },
  {
   "cell_type": "code",
   "execution_count": 24,
   "metadata": {},
   "outputs": [
    {
     "data": {
      "text/html": [
       "<div>\n",
       "<style scoped>\n",
       "    .dataframe tbody tr th:only-of-type {\n",
       "        vertical-align: middle;\n",
       "    }\n",
       "\n",
       "    .dataframe tbody tr th {\n",
       "        vertical-align: top;\n",
       "    }\n",
       "\n",
       "    .dataframe thead th {\n",
       "        text-align: right;\n",
       "    }\n",
       "</style>\n",
       "<table border=\"1\" class=\"dataframe\">\n",
       "  <thead>\n",
       "    <tr style=\"text-align: right;\">\n",
       "      <th></th>\n",
       "      <th>temp</th>\n",
       "      <th>day_of_week_Friday</th>\n",
       "      <th>day_of_week_Monday</th>\n",
       "      <th>day_of_week_Saturday</th>\n",
       "      <th>day_of_week_Sunday</th>\n",
       "      <th>day_of_week_Thursday</th>\n",
       "      <th>day_of_week_Tuesday</th>\n",
       "      <th>day_of_week_Wednesday</th>\n",
       "      <th>month_APR</th>\n",
       "      <th>month_AUG</th>\n",
       "      <th>month_JUL</th>\n",
       "      <th>month_JUN</th>\n",
       "      <th>month_MAY</th>\n",
       "      <th>month_OCT</th>\n",
       "      <th>month_SEP</th>\n",
       "      <th>skies_Clear</th>\n",
       "      <th>skies_Cloudy</th>\n",
       "      <th>bobblehead_NO</th>\n",
       "      <th>bobblehead_YES</th>\n",
       "    </tr>\n",
       "  </thead>\n",
       "  <tbody>\n",
       "    <tr>\n",
       "      <th>17</th>\n",
       "      <td>72</td>\n",
       "      <td>0</td>\n",
       "      <td>1</td>\n",
       "      <td>0</td>\n",
       "      <td>0</td>\n",
       "      <td>0</td>\n",
       "      <td>0</td>\n",
       "      <td>0</td>\n",
       "      <td>0</td>\n",
       "      <td>0</td>\n",
       "      <td>0</td>\n",
       "      <td>1</td>\n",
       "      <td>0</td>\n",
       "      <td>0</td>\n",
       "      <td>0</td>\n",
       "      <td>1</td>\n",
       "      <td>0</td>\n",
       "      <td>1</td>\n",
       "      <td>0</td>\n",
       "    </tr>\n",
       "  </tbody>\n",
       "</table>\n",
       "</div>"
      ],
      "text/plain": [
       "    temp  day_of_week_Friday  day_of_week_Monday  day_of_week_Saturday  \\\n",
       "17    72                   0                   1                     0   \n",
       "\n",
       "    day_of_week_Sunday  day_of_week_Thursday  day_of_week_Tuesday  \\\n",
       "17                   0                     0                    0   \n",
       "\n",
       "    day_of_week_Wednesday  month_APR  month_AUG  month_JUL  month_JUN  \\\n",
       "17                      0          0          0          0          1   \n",
       "\n",
       "    month_MAY  month_OCT  month_SEP  skies_Clear   skies_Cloudy  \\\n",
       "17          0          0          0             1             0   \n",
       "\n",
       "    bobblehead_NO  bobblehead_YES  \n",
       "17              1               0  "
      ]
     },
     "execution_count": 24,
     "metadata": {},
     "output_type": "execute_result"
    }
   ],
   "source": [
    "bobblehead_no"
   ]
  },
  {
   "cell_type": "code",
   "execution_count": 25,
   "metadata": {},
   "outputs": [
    {
     "data": {
      "text/html": [
       "<div>\n",
       "<style scoped>\n",
       "    .dataframe tbody tr th:only-of-type {\n",
       "        vertical-align: middle;\n",
       "    }\n",
       "\n",
       "    .dataframe tbody tr th {\n",
       "        vertical-align: top;\n",
       "    }\n",
       "\n",
       "    .dataframe thead th {\n",
       "        text-align: right;\n",
       "    }\n",
       "</style>\n",
       "<table border=\"1\" class=\"dataframe\">\n",
       "  <thead>\n",
       "    <tr style=\"text-align: right;\">\n",
       "      <th></th>\n",
       "      <th>temp</th>\n",
       "      <th>day_of_week_Friday</th>\n",
       "      <th>day_of_week_Monday</th>\n",
       "      <th>day_of_week_Saturday</th>\n",
       "      <th>day_of_week_Sunday</th>\n",
       "      <th>day_of_week_Thursday</th>\n",
       "      <th>day_of_week_Tuesday</th>\n",
       "      <th>day_of_week_Wednesday</th>\n",
       "      <th>month_APR</th>\n",
       "      <th>month_AUG</th>\n",
       "      <th>month_JUL</th>\n",
       "      <th>month_JUN</th>\n",
       "      <th>month_MAY</th>\n",
       "      <th>month_OCT</th>\n",
       "      <th>month_SEP</th>\n",
       "      <th>skies_Clear</th>\n",
       "      <th>skies_Cloudy</th>\n",
       "      <th>bobblehead_NO</th>\n",
       "      <th>bobblehead_YES</th>\n",
       "    </tr>\n",
       "  </thead>\n",
       "  <tbody>\n",
       "    <tr>\n",
       "      <th>17</th>\n",
       "      <td>72</td>\n",
       "      <td>0</td>\n",
       "      <td>1</td>\n",
       "      <td>0</td>\n",
       "      <td>0</td>\n",
       "      <td>0</td>\n",
       "      <td>0</td>\n",
       "      <td>0</td>\n",
       "      <td>0</td>\n",
       "      <td>0</td>\n",
       "      <td>0</td>\n",
       "      <td>1</td>\n",
       "      <td>0</td>\n",
       "      <td>0</td>\n",
       "      <td>0</td>\n",
       "      <td>1</td>\n",
       "      <td>0</td>\n",
       "      <td>0</td>\n",
       "      <td>1</td>\n",
       "    </tr>\n",
       "  </tbody>\n",
       "</table>\n",
       "</div>"
      ],
      "text/plain": [
       "    temp  day_of_week_Friday  day_of_week_Monday  day_of_week_Saturday  \\\n",
       "17    72                   0                   1                     0   \n",
       "\n",
       "    day_of_week_Sunday  day_of_week_Thursday  day_of_week_Tuesday  \\\n",
       "17                   0                     0                    0   \n",
       "\n",
       "    day_of_week_Wednesday  month_APR  month_AUG  month_JUL  month_JUN  \\\n",
       "17                      0          0          0          0          1   \n",
       "\n",
       "    month_MAY  month_OCT  month_SEP  skies_Clear   skies_Cloudy  \\\n",
       "17          0          0          0             1             0   \n",
       "\n",
       "    bobblehead_NO  bobblehead_YES  \n",
       "17              0               1  "
      ]
     },
     "execution_count": 25,
     "metadata": {},
     "output_type": "execute_result"
    }
   ],
   "source": [
    "bobblehead_yes = bobblehead_no.copy()\n",
    "bobblehead_yes['bobblehead_NO']=0\n",
    "bobblehead_yes['bobblehead_YES']=1\n",
    "bobblehead_yes"
   ]
  },
  {
   "cell_type": "code",
   "execution_count": 26,
   "metadata": {},
   "outputs": [],
   "source": [
    "bobblehead_yes_scaled=scaler_mode.transform(bobblehead_yes)"
   ]
  },
  {
   "cell_type": "code",
   "execution_count": 27,
   "metadata": {},
   "outputs": [
    {
     "data": {
      "text/plain": [
       "array([45261.21210986])"
      ]
     },
     "execution_count": 27,
     "metadata": {},
     "output_type": "execute_result"
    }
   ],
   "source": [
    "bobblehead_yes_predict = l1_model.predict(bobblehead_yes_scaled)\n",
    "bobblehead_yes_predict"
   ]
  },
  {
   "cell_type": "code",
   "execution_count": 28,
   "metadata": {},
   "outputs": [
    {
     "data": {
      "text/plain": [
       "array([[44378.98338796]])"
      ]
     },
     "execution_count": 28,
     "metadata": {},
     "output_type": "execute_result"
    }
   ],
   "source": [
    "bobblehead_yes_predict = l2_model.predict(bobblehead_yes_scaled)\n",
    "bobblehead_yes_predict"
   ]
  },
  {
   "cell_type": "code",
   "execution_count": 29,
   "metadata": {},
   "outputs": [
    {
     "data": {
      "text/plain": [
       "array([[45167.98210513]])"
      ]
     },
     "execution_count": 29,
     "metadata": {},
     "output_type": "execute_result"
    }
   ],
   "source": [
    "bobblehead_yes_predict = linear_model.predict(bobblehead_yes_scaled)\n",
    "bobblehead_yes_predict"
   ]
  },
  {
   "cell_type": "markdown",
   "metadata": {},
   "source": [
    "#### We can see that bobblehead promotion has effect on attendance and it's high in all three methods for bobblehead_YES"
   ]
  }
 ],
 "metadata": {
  "kernelspec": {
   "display_name": "Python 3",
   "language": "python",
   "name": "python3"
  },
  "language_info": {
   "codemirror_mode": {
    "name": "ipython",
    "version": 3
   },
   "file_extension": ".py",
   "mimetype": "text/x-python",
   "name": "python",
   "nbconvert_exporter": "python",
   "pygments_lexer": "ipython3",
   "version": "3.7.3"
  }
 },
 "nbformat": 4,
 "nbformat_minor": 4
}
